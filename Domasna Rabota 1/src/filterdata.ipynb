{
 "cells": [
  {
   "cell_type": "markdown",
   "metadata": {},
   "source": [
    "# Imports"
   ]
  },
  {
   "cell_type": "code",
   "execution_count": 71,
   "metadata": {},
   "outputs": [],
   "source": [
    "import pandas as pd\n",
    "import xml.etree.ElementTree as ET\n",
    "import re\n"
   ]
  },
  {
   "cell_type": "markdown",
   "metadata": {},
   "source": [
    "# Functions"
   ]
  },
  {
   "cell_type": "code",
   "execution_count": 72,
   "metadata": {},
   "outputs": [],
   "source": [
    "def get_tag_value(element, tag_key):\n",
    "    tag = element.find(f'.//tag[@k=\"{tag_key}\"]')\n",
    "    return tag.get('v') if tag is not None else None\n",
    "\n",
    "def has_greek_letters(s):\n",
    "    greek_letters_pattern = re.compile('[Α-Ωα-ω]')\n",
    "    return bool(greek_letters_pattern.search(s))\n",
    "\n",
    "# Iterate over nodes, ways, and relations in the XML\n",
    "def get_columns(get_tag_value, element):\n",
    "    element_id = element.get('id')\n",
    "    latitude = element.get('lat')\n",
    "    longitude = element.get('lon')\n",
    "\n",
    "    # Check if the element has a valid name\n",
    "    name_tag = element.find('.//tag[@k=\"name\"]')\n",
    "    name_value = name_tag.get('v') if name_tag is not None else None\n",
    "    \n",
    "    if name_value is not None:\n",
    "        if has_greek_letters(name_value):\n",
    "            name_value = None\n",
    "\n",
    "    category_value = \"\"\n",
    "\n",
    "    amenity_value = get_tag_value(element, 'amenity')\n",
    "    building_value = get_tag_value(element, 'building')\n",
    "    historic_value = get_tag_value(element, 'historic')\n",
    "    artwork_value = get_tag_value(element, \"artwork_type\")\n",
    "\n",
    "    if amenity_value and building_value:\n",
    "        category_value = amenity_value\n",
    "    elif building_value:\n",
    "        category_value = building_value\n",
    "    elif historic_value:\n",
    "        category_value = historic_value\n",
    "    else:\n",
    "        category_value = artwork_value\n",
    "        \n",
    "    return element_id,latitude,longitude,name_value,category_value\n",
    "\n"
   ]
  },
  {
   "cell_type": "code",
   "execution_count": 73,
   "metadata": {},
   "outputs": [],
   "source": [
    "\n",
    "xml_file_path = 'Data\\exportXML.osm'\n",
    "with open(xml_file_path, 'r', encoding='utf-8') as file:\n",
    "    xml_data = file.read()\n",
    "root = ET.fromstring(xml_data)\n",
    "\n",
    "datasetNodes = []\n",
    "datasetWays = []\n",
    "for element in root.findall('.//node'):\n",
    "    data = {}\n",
    "    element_id, latitude, longitude, name_value, category_value = get_columns(get_tag_value, element)\n",
    "    if name_value and category_value:\n",
    "        data['id'] = element_id\n",
    "        data['latitude'] = latitude\n",
    "        data['longitude'] = longitude\n",
    "        data['name'] = name_value\n",
    "        data['category'] = category_value\n",
    "        datasetNodes.append(data)\n",
    "        \n",
    "for element in root.findall('.//way'):\n",
    "    data = {}\n",
    "    element_id, latitude, longitude, name_value, category_value = get_columns(get_tag_value, element)\n",
    "    if name_value and category_value:\n",
    "        data['id'] = element_id\n",
    "        data['name'] = name_value\n",
    "        data['category'] = category_value\n",
    "        datasetWays.append(data)\n",
    "\n",
    "\n",
    "dfNodes = pd.DataFrame(datasetNodes)\n",
    "dfWays = pd.DataFrame(datasetWays)\n",
    "\n",
    "\n",
    "dfNodes.to_csv(\"Output/nodes.csv\", index=False)\n",
    "dfWays.to_csv(\"Output/ways.csv\", index=False)"
   ]
  },
  {
   "cell_type": "code",
   "execution_count": 74,
   "metadata": {},
   "outputs": [],
   "source": [
    "def create_csv(df, isNode):\n",
    "    unique_categories = df['category'].unique()\n",
    "\n",
    "    for category in unique_categories:\n",
    "        \n",
    "        category_df = df[df['category'] == category]\n",
    "        if len(category) >= 5:\n",
    "                \n",
    "            if isNode:\n",
    "                file_name = f'Output/{category}__node_data.csv'\n",
    "            else:\n",
    "                file_name = f'Output/{category}__way_data.csv'\n",
    "            category_df.to_csv(file_name, index=False)\n",
    "    "
   ]
  },
  {
   "cell_type": "code",
   "execution_count": 75,
   "metadata": {},
   "outputs": [],
   "source": [
    "create_csv(dfNodes, True)\n",
    "create_csv(dfWays, False)"
   ]
  }
 ],
 "metadata": {
  "kernelspec": {
   "display_name": "Python 3",
   "language": "python",
   "name": "python3"
  },
  "language_info": {
   "codemirror_mode": {
    "name": "ipython",
    "version": 3
   },
   "file_extension": ".py",
   "mimetype": "text/x-python",
   "name": "python",
   "nbconvert_exporter": "python",
   "pygments_lexer": "ipython3",
   "version": "3.11.2"
  }
 },
 "nbformat": 4,
 "nbformat_minor": 2
}
